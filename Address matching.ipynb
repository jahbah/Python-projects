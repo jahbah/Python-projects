{
 "cells": [
  {
   "cell_type": "code",
   "execution_count": 1,
   "id": "4a56276c-4cbd-48eb-886f-945428299851",
   "metadata": {},
   "outputs": [],
   "source": [
    "import Levenshtein, difflib\n",
    "from fuzzywuzzy import fuzz\n",
    "import re\n",
    "from thefuzz import fuzz"
   ]
  },
  {
   "cell_type": "code",
   "execution_count": 690,
   "id": "207612af-c50f-4b23-bc39-117dfc4c41c7",
   "metadata": {},
   "outputs": [],
   "source": [
    "address1 = \"123 Main Street\"\n",
    "address2 = \"123 Main Str.\""
   ]
  },
  {
   "cell_type": "code",
   "execution_count": null,
   "id": "8052cbe1-6d3a-412b-b0f0-b47cbef2c2f7",
   "metadata": {},
   "outputs": [],
   "source": [
    "def levenshtein_similarity(address1, address2):\n",
    "    return Levenshtein.ratio(address1.lower(), address2.lower())\n",
    "\n",
    "\n",
    "print(levenshtein_similarity(address1, address2))  # Output: Similarity ratio\n"
   ]
  },
  {
   "cell_type": "code",
   "execution_count": null,
   "id": "bc7590e8-d5ac-4dc1-9da9-8bd442efe965",
   "metadata": {},
   "outputs": [],
   "source": [
    "def difflib_similarity(address1, address2):\n",
    "    return difflib.SequenceMatcher(None, address1.lower(), address2.lower()).ratio()\n",
    "\n",
    "print(difflib_similarity(address1, address2))  # Output: Similarity ratio"
   ]
  },
  {
   "cell_type": "code",
   "execution_count": null,
   "id": "568cc91a-35d4-4ae7-8dab-2a354eb4121a",
   "metadata": {},
   "outputs": [],
   "source": [
    "pip install spacy"
   ]
  },
  {
   "cell_type": "code",
   "execution_count": null,
   "id": "385b0099-96c2-4ab0-b46f-df824e291b1b",
   "metadata": {},
   "outputs": [],
   "source": [
    "spacy download en_core_web_lg"
   ]
  },
  {
   "cell_type": "code",
   "execution_count": null,
   "id": "9339db23-7587-4734-a7eb-b5ef56ff2123",
   "metadata": {},
   "outputs": [],
   "source": []
  },
  {
   "cell_type": "code",
   "execution_count": 735,
   "id": "78e48d36-f5a2-4870-955c-f524121bb02d",
   "metadata": {},
   "outputs": [],
   "source": [
    "def areAddressSimilar(address1, address2):\n",
    "    # make all text lower-case\n",
    "    address1 = address1.lower()\n",
    "    address2 =address2.lower()\n",
    "    \n",
    "    # replace commas with space\n",
    "    address1 = address1.replace(\",\",\" \")\n",
    "    address2 =address2.replace(\",\",\" \")\n",
    "\n",
    "    # replace commas with space\n",
    "    address1 = address1.replace(\".\",\" \")\n",
    "    address2 =address2.replace(\".\",\" \")\n",
    "    \n",
    "    # remove all leading and preceding spaces\n",
    "    address1 =address1.strip() \n",
    "    address2 =address2.strip()\n",
    "    \n",
    "    # Replacing double spaces with single space\n",
    "    address1= re.sub(' +', ' ', address1) \n",
    "    address2= re.sub(' +', ' ', address2)\n",
    "\n",
    "    # split address into a list of words for both addresses\n",
    "    a1=address1.split(\" \")\n",
    "    a2=address2.split(\" \")\n",
    "    \n",
    "    # checking for the list with the highest number of words then reassign it to be a1 the smaller list\n",
    "    if len(a2)<len(a1):\n",
    "        a1,a2 = a2, a1\n",
    "    \n",
    "    # number of loops completed\n",
    "    l1 = 0\n",
    "    \n",
    "    while l1< len(a1) and a1[l1] == a2[l1]: \n",
    "        l1 += 1\n",
    "        \n",
    "    r1,r2 =len(a1)-1, len(a2)-1\n",
    "    while r1>= l1 and r2 >=0 and a1[r1] == a2[r2]:\n",
    "        r1, r2 = r1 - 1, r2 - 1\n",
    "    return (l1/len(a1)+(r1+1)/len(a1))/2"
   ]
  },
  {
   "cell_type": "code",
   "execution_count": 753,
   "id": "6f6fdb51-9fe4-43b0-b1c2-60dc23465231",
   "metadata": {},
   "outputs": [],
   "source": [
    "def areAddressSimilar2(address1, address2):\n",
    "    # make all text lower-case\n",
    "    address1 = address1.lower()\n",
    "    address2 =address2.lower()\n",
    "    \n",
    "    # replace commas with space\n",
    "    address1 = address1.replace(\",\",\" \")\n",
    "    address2 =address2.replace(\",\",\" \")\n",
    "\n",
    "    # replace commas with space\n",
    "    address1 = address1.replace(\".\",\" \")\n",
    "    address2 =address2.replace(\".\",\" \")\n",
    "    \n",
    "    # remove all leading and preceding spaces\n",
    "    address1 =address1.strip() \n",
    "    address2 =address2.strip()\n",
    "    \n",
    "    # Replacing double spaces with single space\n",
    "    address1= re.sub(' +', ' ', address1) \n",
    "    address2= re.sub(' +', ' ', address2)\n",
    "\n",
    "    # split address into a list of words for both addresses\n",
    "    a1=address1.split(\" \")\n",
    "    a2=address2.split(\" \")\n",
    "    \n",
    "    # checking for the list with the highest number of words then reassign them for a1 to be the smaller list\n",
    "    if len(a2)<len(a1):\n",
    "        a1,a2 = a2, a1\n",
    "    \n",
    "    # number of loops completed\n",
    "    l1 = 0\n",
    "\n",
    "    # while loop to check each word from the left to right for a fuzzy match\n",
    "    while l1< len(a1) and fuzz.ratio(a1[l1],a2[l1])>65:\n",
    "        l1 += 1\n",
    "        \n",
    "    r1,r2 =len(a1)-1, len(a2)-1\n",
    "\n",
    "    # while loop to check each word from the right to left for a fuzzy match\n",
    "    while r1>= l1 and r2 >=0 and fuzz.ratio(a1[r1] , a2[r2])>65:\n",
    "        r1, r2 = r1 - 1, r2 - 1\n",
    "    return (l1/len(a1)+(r1+1)/len(a1))/2 # Average of both matches becomes our result"
   ]
  },
  {
   "cell_type": "code",
   "execution_count": 2,
   "id": "9ddf5373-eecb-4cb7-9ece-bb8c86c790c7",
   "metadata": {},
   "outputs": [],
   "source": [
    "def areAddressSimilar3(address1, address2):\n",
    "    # make all text lower-case\n",
    "    address1 = address1.lower()\n",
    "    address2 =address2.lower()\n",
    "    \n",
    "    # replace commas with space\n",
    "    address1 = address1.replace(\",\",\" \")\n",
    "    address2 =address2.replace(\",\",\" \")\n",
    "\n",
    "    # replace commas with space\n",
    "    address1 = address1.replace(\".\",\" \")\n",
    "    address2 =address2.replace(\".\",\" \")\n",
    "    \n",
    "    # remove all leading and preceding spaces\n",
    "    address1 =address1.strip() \n",
    "    address2 =address2.strip()\n",
    "    \n",
    "    # Replacing double spaces with single space\n",
    "    address1= re.sub(' +', ' ', address1) \n",
    "    address2= re.sub(' +', ' ', address2)\n",
    "\n",
    "    # split address into a list of words for both addresses\n",
    "    a1=address1.split(\" \")\n",
    "    a2=address2.split(\" \")\n",
    "    \n",
    "    # checking for the list with the highest number of words then reassign them for a1 to be the smaller list\n",
    "    if len(a2)<len(a1):\n",
    "        a1,a2 = a2, a1\n",
    "\n",
    "    match_type =''\n",
    "    \n",
    "    # number of loops completed from the left\n",
    "    l1 = 0\n",
    "    \n",
    "    while l1< len(a1) and fuzz.ratio(a1[l1],a2[l1])>65:\n",
    "        l1 += 1\n",
    "    s1=0    \n",
    "    r1,r2 =len(a1)-1, len(a2)-1 # word position in the list\n",
    "    while r1>= l1 and r2 >=0 and fuzz.ratio(a1[r1] , a2[r2])>65:\n",
    "        s1=r1\n",
    "        r1, r2 = r1 - 1, r2 - 1\n",
    "    similarity= (l1/len(a1)+(len(a1)-s1)/len(a1))/2\n",
    "    if similarity==1.0:\n",
    "        match_type='100% match'\n",
    "    elif len(a1)-s1==len(a1):\n",
    "        match_type = 'Matched by logic'\n",
    "    elif l1>=2 and len(a1)-s1>=2:\n",
    "        match_type = 'Matched by logic'\n",
    "    else:\n",
    "        match_type = 'No match'\n",
    "    \n",
    "    \n",
    "    return match_type, ' Matches from the left: ',l1, 'matches from the right: ',len(a1)-s1,'No. of words in the shorter address ', len(a1), similarity"
   ]
  },
  {
   "cell_type": "code",
   "execution_count": 9,
   "id": "4d8a6264-afe7-4a4a-9fe6-4e841c2f5cb8",
   "metadata": {},
   "outputs": [],
   "source": [
    "address1 = '5 Alli Oluwafuyi crescent, Asolo, Ikorodu, Ikorodu,  Agege, Lagos,'\n",
    "address2 = '5 Alli Oluwafuyi crescent, Asolo, Ikorodu, Ikorodu,  agege, Lagos,'"
   ]
  },
  {
   "cell_type": "code",
   "execution_count": 5,
   "id": "c345e064-6dfe-474a-9269-92fca2e38b17",
   "metadata": {},
   "outputs": [],
   "source": [
    "\n",
    "address1= '4 Pepsis , Lagos,  Aba North, Abia,'\n",
    "address2 = '4 Pepsi cola, lagos,  Aba North, Abia,'\n"
   ]
  },
  {
   "cell_type": "code",
   "execution_count": 7,
   "id": "57577bc7-9473-4c43-a9ae-7351ee4fad66",
   "metadata": {},
   "outputs": [],
   "source": [
    "address1 = '29 Goshen Avenue, Irawo, kosofe, lagos'\n",
    "address2 = 'no 29 Goshen Avenue, Irawo, kosofe, lagos'\n"
   ]
  },
  {
   "cell_type": "code",
   "execution_count": 3,
   "id": "523c0fb2-96b1-4729-9588-cfcd9f0c1c05",
   "metadata": {},
   "outputs": [],
   "source": [
    "address1=\"BRICKCITY ESTATE PHASE 11 KUBWA UND ST MOPOL/KAGINI-DEI DEI BRICKCITY ESTATE PHASE 11 KUBWA\tARAB JUNCTION KUBWA FCT CALL CLIENT ON, BWARI,  Bwari, FCT, \"\n",
    "address2=\"BRICKCITY ESTATE PHASE 11 KUBWA\tARAB JUNCTION KUBWA FCT BRICKCITY ESTATE PHASE 11 KUBWA  ARAB JUNCTION KUBWA FCT CALL CLIENT ON, ABUJA MUNICIPAL,  ABUJA MUNICIPAL, FCT, \"\n"
   ]
  },
  {
   "cell_type": "code",
   "execution_count": 968,
   "id": "d8d3bb87-d7a5-4eb9-a025-79dcafdf538e",
   "metadata": {},
   "outputs": [],
   "source": [
    "address1= '270 Murtala Muhammed Way, Alagomeji Yaba,  Lagos Mainland, Lagos, '\n",
    "address2= '270 murtala mohammed way, undefined, undefined, Lagos Mainland, Lagos,'\n"
   ]
  },
  {
   "cell_type": "code",
   "execution_count": 10,
   "id": "3a6eb7e8-8d40-49b7-8670-59753dc84af9",
   "metadata": {},
   "outputs": [
    {
     "name": "stdout",
     "output_type": "stream",
     "text": [
      "areAddressSimilar3: ('100% match', ' Matches from the left: ', 9, 'matches from the right: ', 9, 'No. of words in the shorter address ', 9, 1.0)\n"
     ]
    }
   ],
   "source": [
    "print(f'areAddressSimilar3: {areAddressSimilar3(address1, address2)}')"
   ]
  },
  {
   "cell_type": "code",
   "execution_count": null,
   "id": "2f4127cc-6ec9-4dd2-b69d-0453a376a81b",
   "metadata": {},
   "outputs": [],
   "source": []
  },
  {
   "cell_type": "code",
   "execution_count": null,
   "id": "1be043bd-8118-4821-9d2c-6a0a181125c4",
   "metadata": {},
   "outputs": [],
   "source": []
  },
  {
   "cell_type": "code",
   "execution_count": null,
   "id": "48c48cb0-6086-47b7-b4a2-b8bd0725890e",
   "metadata": {},
   "outputs": [],
   "source": []
  },
  {
   "cell_type": "code",
   "execution_count": null,
   "id": "646ac5ca-9eca-4750-9e12-acd57f172256",
   "metadata": {},
   "outputs": [],
   "source": []
  },
  {
   "cell_type": "code",
   "execution_count": 970,
   "id": "52d98fc0-b619-4cbe-8b4e-69ca1b09ddf3",
   "metadata": {},
   "outputs": [
    {
     "name": "stdout",
     "output_type": "stream",
     "text": [
      "4 \n",
      " 9 \n",
      " 0.4444444444444444\n"
     ]
    }
   ],
   "source": [
    "a1=address1.split(\" \")\n",
    "a2=address2.split(\" \")\n",
    "l2=0\n",
    "c =[]\n",
    "for x in a1:\n",
    "    if x in a2:\n",
    "        c.append(x)\n",
    "            \n",
    "print(len(c),'\\n',len(a2),'\\n',len(c)/len(a2))\n"
   ]
  },
  {
   "cell_type": "code",
   "execution_count": 984,
   "id": "2151174a-d613-47c8-a0e7-d9f25f4b9d3e",
   "metadata": {},
   "outputs": [
    {
     "data": {
      "text/plain": [
       "62"
      ]
     },
     "execution_count": 984,
     "metadata": {},
     "output_type": "execute_result"
    }
   ],
   "source": [
    "fuzz.ratio('oluwafemi' , 'femi')"
   ]
  },
  {
   "cell_type": "code",
   "execution_count": null,
   "id": "c7e97d10-ce7c-4489-bf51-29c0ba2babd9",
   "metadata": {},
   "outputs": [],
   "source": []
  },
  {
   "cell_type": "code",
   "execution_count": null,
   "id": "0906a755-a9d2-4a4c-ac60-af45b749deb2",
   "metadata": {},
   "outputs": [],
   "source": []
  }
 ],
 "metadata": {
  "kernelspec": {
   "display_name": "base",
   "language": "python",
   "name": "python3"
  },
  "language_info": {
   "codemirror_mode": {
    "name": "ipython",
    "version": 3
   },
   "file_extension": ".py",
   "mimetype": "text/x-python",
   "name": "python",
   "nbconvert_exporter": "python",
   "pygments_lexer": "ipython3",
   "version": "3.12.4"
  }
 },
 "nbformat": 4,
 "nbformat_minor": 5
}
